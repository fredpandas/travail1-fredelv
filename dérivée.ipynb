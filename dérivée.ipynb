{
 "cells": [
  {
   "cell_type": "code",
   "execution_count": 1,
   "metadata": {
    "collapsed": true
   },
   "outputs": [],
   "source": [
    "import pylab as pl\n",
    "import numpy as np"
   ]
  },
  {
   "cell_type": "code",
   "execution_count": 2,
   "metadata": {
    "collapsed": false
   },
   "outputs": [],
   "source": [
    "def segment(a,b,c,d):\n",
    "    pl.plot(a,b,'o',color='black')\n",
    "    pl.plot([a,c],[b,d],color='red')"
   ]
  },
  {
   "cell_type": "code",
   "execution_count": 3,
   "metadata": {
    "collapsed": false
   },
   "outputs": [],
   "source": [
    "X=np.linspace(-2,2,20)\n",
    "Y=X**2"
   ]
  },
  {
   "cell_type": "code",
   "execution_count": 4,
   "metadata": {
    "collapsed": false
   },
   "outputs": [],
   "source": [
    "Abs=[]\n",
    "Ord=[]\n",
    "for k in range(len(X)-1):\n",
    "    taux=(Y[k+1]-Y[k])/(X[k+1]-X[k])\n",
    "    Abs.append(X[k])\n",
    "    Ord.append(taux)"
   ]
  },
  {
   "cell_type": "code",
   "execution_count": 5,
   "metadata": {
    "collapsed": false
   },
   "outputs": [
    {
     "data": {
      "text/plain": [
       "[<matplotlib.lines.Line2D at 0x20da2dc02b0>]"
      ]
     },
     "execution_count": 5,
     "metadata": {},
     "output_type": "execute_result"
    }
   ],
   "source": [
    "pl.plot(Abs,Ord)"
   ]
  },
  {
   "cell_type": "code",
   "execution_count": 6,
   "metadata": {
    "collapsed": false
   },
   "outputs": [
    {
     "data": {
      "image/png": "[encoded data removed]",
      "text/plain": [
       "<Figure size 432x288 with 1 Axes>"
      ]
     },
     "metadata": {},
     "output_type": "display_data"
    }
   ],
   "source": [
    "pl.grid()\n",
    "pl.show()"
   ]
  },
  {
   "cell_type": "code",
   "execution_count": 7,
   "metadata": {
    "collapsed": false
   },
   "outputs": [
    {
     "name": "stdout",
     "output_type": "stream",
     "text": [
      "1.894736842105263\n",
      "1.8823529411764706\n",
      "1.866666666666667\n",
      "1.8461538461538463\n",
      "1.818181818181818\n",
      "1.7777777777777777\n",
      "1.7142857142857146\n",
      "1.6\n",
      "1.3333333333333335\n",
      "2.1135437150432404e-15\n",
      "4.000000000000004\n",
      "2.666666666666666\n",
      "2.4\n",
      "2.2857142857142856\n",
      "2.2222222222222223\n",
      "2.1818181818181817\n",
      "2.153846153846154\n",
      "2.133333333333333\n",
      "2.11764705882353\n"
     ]
    }
   ],
   "source": [
    "for x,y in zip(Abs,Ord):\n",
    "    print(y/x)"
   ]
  },
  {
   "cell_type": "code",
   "execution_count": 8,
   "metadata": {
    "collapsed": false
   },
   "outputs": [
    {
     "data": {
      "text/plain": [
       "[<matplotlib.lines.Line2D at 0x20da2c99c18>]"
      ]
     },
     "execution_count": 8,
     "metadata": {},
     "output_type": "execute_result"
    }
   ],
   "source": [
    "%matplotlib qt5\n",
    "for k in range(len(X)-1):\n",
    "    delta=X[k+1]-X[k]\n",
    "    segment(X[k],Y[k],X[k]+1,Y[k]+Ord[k]*1)\n",
    "pl.plot(X,Y,color='blue')"
   ]
  },
  {
   "cell_type": "code",
   "execution_count": 9,
   "metadata": {
    "collapsed": false
   },
   "outputs": [],
   "source": [
    "pl.show()"
   ]
  },
  {
   "cell_type": "code",
   "execution_count": null,
   "metadata": {
    "collapsed": true
   },
   "outputs": [],
   "source": []
  }
 ],
 "metadata": {
  "kernelspec": {
   "display_name": "Python 3",
   "language": "python",
   "name": "python3"
  },
  "language_info": {
   "codemirror_mode": {
    "name": "ipython",
    "version": 3
   },
   "file_extension": ".py",
   "mimetype": "text/x-python",
   "name": "python",
   "nbconvert_exporter": "python",
   "pygments_lexer": "ipython3",
   "version": "3.6.0"
  }
 },
 "nbformat": 4,
 "nbformat_minor": 2
}
